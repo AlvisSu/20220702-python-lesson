{
  "nbformat": 4,
  "nbformat_minor": 0,
  "metadata": {
    "colab": {
      "name": "20220820.ipynb",
      "provenance": [],
      "authorship_tag": "ABX9TyMd4H59Az02w+y6mdYlTcwm",
      "include_colab_link": true
    },
    "kernelspec": {
      "name": "python3",
      "display_name": "Python 3"
    },
    "language_info": {
      "name": "python"
    }
  },
  "cells": [
    {
      "cell_type": "markdown",
      "metadata": {
        "id": "view-in-github",
        "colab_type": "text"
      },
      "source": [
        "<a href=\"https://colab.research.google.com/github/AlvisSu/20220702-python-lesson/blob/main/20220820.ipynb\" target=\"_parent\"><img src=\"https://colab.research.google.com/assets/colab-badge.svg\" alt=\"Open In Colab\"/></a>"
      ]
    },
    {
      "cell_type": "markdown",
      "source": [
        "# 建立Python虛擬環境 venv\n",
        "與電腦原本的Python隔開\n",
        "* python -m venv myvenv\n",
        "* activate\n",
        "* Scripts\\activate (啟動虛擬環境)\n",
        "* deactivate\n",
        "* pip freeze (套件版本)\n",
        "* pip freeze > requirements.txt (儲存套件版本)\n",
        "\n",
        "\n",
        "不同套件可能要使用不同版本的Python\n",
        "\n",
        "https://www.dataquest.io/blog/a-complete-guide-to-python-virtual-environments/"
      ],
      "metadata": {
        "id": "yaVXlzrMxg0r"
      }
    },
    {
      "cell_type": "markdown",
      "source": [
        "# 建立第二個虛擬環境\n",
        "* 將套件版本放進資料夾\n",
        "* pip install -r requirements.txt"
      ],
      "metadata": {
        "id": "7RupHdf-9C5A"
      }
    },
    {
      "cell_type": "markdown",
      "source": [
        "# Git使用\n",
        "https://github.com/victorgau/khpy_git_intro\n",
        "\n",
        "pycourse\n",
        "\n",
        "https://github.com/victorgau/pycourse"
      ],
      "metadata": {
        "id": "y8Ahdohu-y26"
      }
    },
    {
      "cell_type": "markdown",
      "source": [
        "# 使用conda建立虛擬環境\n",
        "\n",
        "https://github.com/victorgau/khpy_python_basics/blob/main/%E4%BD%BF%E7%94%A8conda%E5%BB%BA%E7%AB%8B%E8%99%9B%E6%93%AC%E7%92%B0%E5%A2%83.md"
      ],
      "metadata": {
        "id": "Xh-9scyBDE5_"
      }
    },
    {
      "cell_type": "markdown",
      "source": [
        "# RFM教學\n",
        "\n",
        "https://github.com/victorgau/khpy_marketing_analytics_intro"
      ],
      "metadata": {
        "id": "HkEyWC3HDvPl"
      }
    },
    {
      "cell_type": "code",
      "execution_count": null,
      "metadata": {
        "id": "6qKpvCDZxdfv"
      },
      "outputs": [],
      "source": [
        ""
      ]
    }
  ]
}