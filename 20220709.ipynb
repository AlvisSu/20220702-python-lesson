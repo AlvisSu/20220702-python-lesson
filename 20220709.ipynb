{
  "nbformat": 4,
  "nbformat_minor": 0,
  "metadata": {
    "colab": {
      "name": "20220709.ipynb",
      "provenance": [],
      "authorship_tag": "ABX9TyPku9GquReEZ2sk10gdeLq0",
      "include_colab_link": true
    },
    "kernelspec": {
      "name": "python3",
      "display_name": "Python 3"
    },
    "language_info": {
      "name": "python"
    }
  },
  "cells": [
    {
      "cell_type": "markdown",
      "metadata": {
        "id": "view-in-github",
        "colab_type": "text"
      },
      "source": [
        "<a href=\"https://colab.research.google.com/github/AlvisSu/20220702-python-lesson/blob/main/20220709.ipynb\" target=\"_parent\"><img src=\"https://colab.research.google.com/assets/colab-badge.svg\" alt=\"Open In Colab\"/></a>"
      ]
    },
    {
      "cell_type": "markdown",
      "source": [
        "# 初學者需要知道的概念\n",
        "* 資料型態\n",
        "  * int ==> 整數(0,1,2,...)\n",
        "  * float ==> 浮點數(3.14,1.1,...)\n",
        "  * bool ==> 布林變數(True,False)\n",
        "  * str ==> 字串(\"dog\",'cat',...)\n",
        "* 容器型別\n",
        "  * list ==> 串列[]\n",
        "  * tuple ==> 元祖()\n",
        "  * dict ==> 字典{}\n",
        "  * set ==> 集合{}\n",
        "* 基礎語法\n",
        "  * loops ==>迴圈\n",
        "  * functions ==>函式\n",
        "  * if statements ==>條件式\n",
        "  * exception handling ==>例外處理"
      ],
      "metadata": {
        "id": "I_B3M7Eqfz18"
      }
    },
    {
      "cell_type": "markdown",
      "source": [
        "# loops:for,while"
      ],
      "metadata": {
        "id": "3BQE3ahhmXQ-"
      }
    },
    {
      "cell_type": "markdown",
      "source": [
        "## for loops\n",
        "\n",
        "### 基本語法\n",
        "\n",
        "```python\n",
        "for 變數 in 資料結構:\n",
        "  程式區塊(裡面可以使用上面的變數)\n",
        "```"
      ],
      "metadata": {
        "id": "Z16eKr2nmezm"
      }
    },
    {
      "cell_type": "code",
      "execution_count": 5,
      "metadata": {
        "colab": {
          "base_uri": "https://localhost:8080/"
        },
        "id": "lN7Y6xMaftuu",
        "outputId": "12efff1b-d0de-4908-a01c-98d570ecf97f"
      },
      "outputs": [
        {
          "output_type": "stream",
          "name": "stdout",
          "text": [
            "程式區塊開始\n",
            "0\n",
            "程式區塊開始\n",
            "1\n",
            "程式區塊開始\n",
            "2\n",
            "程式區塊結束\n"
          ]
        }
      ],
      "source": [
        "for i in range(3):\n",
        "  print(\"程式區塊開始\")\n",
        "  print(i)\n",
        "print(\"程式區塊結束\")"
      ]
    },
    {
      "cell_type": "markdown",
      "source": [
        "## while loops\n",
        "\n",
        "### 基本語法\n",
        "\n",
        "```python\n",
        "while 條件式:\n",
        "  程式區塊\n",
        "```"
      ],
      "metadata": {
        "id": "1OJMFXy1oQBE"
      }
    },
    {
      "cell_type": "code",
      "source": [
        "x=0\n",
        "while x < 10:\n",
        "  print(x)\n",
        "  x=x+1"
      ],
      "metadata": {
        "colab": {
          "base_uri": "https://localhost:8080/"
        },
        "id": "OSq5D_N6ojc8",
        "outputId": "000edf92-e835-41f4-9fe9-2ee9f0008281"
      },
      "execution_count": 6,
      "outputs": [
        {
          "output_type": "stream",
          "name": "stdout",
          "text": [
            "0\n",
            "1\n",
            "2\n",
            "3\n",
            "4\n",
            "5\n",
            "6\n",
            "7\n",
            "8\n",
            "9\n"
          ]
        }
      ]
    },
    {
      "cell_type": "markdown",
      "source": [
        "## 寫一個99乘法表\n",
        "\n",
        "可以用for迴圈或while迴圈"
      ],
      "metadata": {
        "id": "hU41gd-Ipgns"
      }
    },
    {
      "cell_type": "code",
      "source": [
        "for i in range(5):\n",
        "  print(i)"
      ],
      "metadata": {
        "colab": {
          "base_uri": "https://localhost:8080/"
        },
        "id": "l9dIexwfq-ic",
        "outputId": "2d2c010a-8853-4143-a671-4aee9ef8e1ec"
      },
      "execution_count": 11,
      "outputs": [
        {
          "output_type": "stream",
          "name": "stdout",
          "text": [
            "0\n",
            "1\n",
            "2\n",
            "3\n",
            "4\n"
          ]
        }
      ]
    },
    {
      "cell_type": "code",
      "source": [
        "list(range(5))"
      ],
      "metadata": {
        "colab": {
          "base_uri": "https://localhost:8080/"
        },
        "id": "7BJamcnTp1bH",
        "outputId": "09db978d-c1c8-4abe-e1f0-28e6912ddb7d"
      },
      "execution_count": 8,
      "outputs": [
        {
          "output_type": "execute_result",
          "data": {
            "text/plain": [
              "[0, 1, 2, 3, 4]"
            ]
          },
          "metadata": {},
          "execution_count": 8
        }
      ]
    },
    {
      "cell_type": "code",
      "source": [
        "list(range(2,5))"
      ],
      "metadata": {
        "colab": {
          "base_uri": "https://localhost:8080/"
        },
        "id": "AUYQsJLuqax6",
        "outputId": "b4fbdc11-e33b-47f3-de34-21f63586f0da"
      },
      "execution_count": 9,
      "outputs": [
        {
          "output_type": "execute_result",
          "data": {
            "text/plain": [
              "[2, 3, 4]"
            ]
          },
          "metadata": {},
          "execution_count": 9
        }
      ]
    },
    {
      "cell_type": "code",
      "source": [
        "for i in range(2,10):\n",
        "  for j in range(2,11):\n",
        "    print(i,\"x\",j-1,\"=\",i*(j-1))"
      ],
      "metadata": {
        "colab": {
          "base_uri": "https://localhost:8080/"
        },
        "id": "SkKx72V4qhnh",
        "outputId": "924e987f-3722-467e-d0ca-4213a1b65228"
      },
      "execution_count": 14,
      "outputs": [
        {
          "output_type": "stream",
          "name": "stdout",
          "text": [
            "2 x 1 = 2\n",
            "2 x 2 = 4\n",
            "2 x 3 = 6\n",
            "2 x 4 = 8\n",
            "2 x 5 = 10\n",
            "2 x 6 = 12\n",
            "2 x 7 = 14\n",
            "2 x 8 = 16\n",
            "2 x 9 = 18\n",
            "3 x 1 = 3\n",
            "3 x 2 = 6\n",
            "3 x 3 = 9\n",
            "3 x 4 = 12\n",
            "3 x 5 = 15\n",
            "3 x 6 = 18\n",
            "3 x 7 = 21\n",
            "3 x 8 = 24\n",
            "3 x 9 = 27\n",
            "4 x 1 = 4\n",
            "4 x 2 = 8\n",
            "4 x 3 = 12\n",
            "4 x 4 = 16\n",
            "4 x 5 = 20\n",
            "4 x 6 = 24\n",
            "4 x 7 = 28\n",
            "4 x 8 = 32\n",
            "4 x 9 = 36\n",
            "5 x 1 = 5\n",
            "5 x 2 = 10\n",
            "5 x 3 = 15\n",
            "5 x 4 = 20\n",
            "5 x 5 = 25\n",
            "5 x 6 = 30\n",
            "5 x 7 = 35\n",
            "5 x 8 = 40\n",
            "5 x 9 = 45\n",
            "6 x 1 = 6\n",
            "6 x 2 = 12\n",
            "6 x 3 = 18\n",
            "6 x 4 = 24\n",
            "6 x 5 = 30\n",
            "6 x 6 = 36\n",
            "6 x 7 = 42\n",
            "6 x 8 = 48\n",
            "6 x 9 = 54\n",
            "7 x 1 = 7\n",
            "7 x 2 = 14\n",
            "7 x 3 = 21\n",
            "7 x 4 = 28\n",
            "7 x 5 = 35\n",
            "7 x 6 = 42\n",
            "7 x 7 = 49\n",
            "7 x 8 = 56\n",
            "7 x 9 = 63\n",
            "8 x 1 = 8\n",
            "8 x 2 = 16\n",
            "8 x 3 = 24\n",
            "8 x 4 = 32\n",
            "8 x 5 = 40\n",
            "8 x 6 = 48\n",
            "8 x 7 = 56\n",
            "8 x 8 = 64\n",
            "8 x 9 = 72\n",
            "9 x 1 = 9\n",
            "9 x 2 = 18\n",
            "9 x 3 = 27\n",
            "9 x 4 = 36\n",
            "9 x 5 = 45\n",
            "9 x 6 = 54\n",
            "9 x 7 = 63\n",
            "9 x 8 = 72\n",
            "9 x 9 = 81\n"
          ]
        }
      ]
    },
    {
      "cell_type": "markdown",
      "source": [
        "我想要印出九九乘法表(向上面一樣)!\n",
        "請問哪裡錯了"
      ],
      "metadata": {
        "id": "psroe9fluAYc"
      }
    },
    {
      "cell_type": "code",
      "source": [
        "x=2\n",
        "y=1\n",
        "while x < 10:\n",
        "  while y < 10:\n",
        "    print(x,\"x\",y,\"=\",x*y)\n",
        "    y=y+1\n",
        "    while y=9:\n",
        "      x=x+1\n"
      ],
      "metadata": {
        "colab": {
          "base_uri": "https://localhost:8080/",
          "height": 132
        },
        "id": "dROWWSBzr3f0",
        "outputId": "4e39e949-d659-4a88-8358-e2511fa8d20d"
      },
      "execution_count": 36,
      "outputs": [
        {
          "output_type": "error",
          "ename": "SyntaxError",
          "evalue": "ignored",
          "traceback": [
            "\u001b[0;36m  File \u001b[0;32m\"<ipython-input-36-3d4de1493a2c>\"\u001b[0;36m, line \u001b[0;32m7\u001b[0m\n\u001b[0;31m    while y=9:\u001b[0m\n\u001b[0m           ^\u001b[0m\n\u001b[0;31mSyntaxError\u001b[0m\u001b[0;31m:\u001b[0m invalid syntax\n"
          ]
        }
      ]
    },
    {
      "cell_type": "markdown",
      "source": [
        "# 條件式(if statements)\n",
        "\n",
        "基本語法\n",
        "\n",
        "語法一:\n",
        "使用條件式來決定程式區塊是否執行\n",
        "\n",
        "```python\n",
        "if 條件式:\n",
        "  程式區塊\n",
        "```\n",
        "\n",
        "語法二:\n",
        "使用條件式來決定執行程式區塊1還是程式區塊2\n",
        "\n",
        "```python\n",
        "if 條件式:\n",
        "  程式區塊1\n",
        "else:\n",
        "  程式區塊2\n",
        "```\n",
        "\n",
        "語法三:\n",
        "使用條件式1跟條件式2來決定執行程式區塊1還是程式區塊2還是程式區塊3\n",
        "\n",
        "```python\n",
        "if 條件式1:\n",
        "  程式區塊1\n",
        "elif 條件式2:\n",
        "  程式區塊2\n",
        "else:\n",
        "  程式區塊3\n",
        "```"
      ],
      "metadata": {
        "id": "vhRrEABcuceQ"
      }
    },
    {
      "cell_type": "code",
      "source": [
        "a=3\n",
        "b=2\n",
        "if a>b:\n",
        "  print(\"a>b\")"
      ],
      "metadata": {
        "colab": {
          "base_uri": "https://localhost:8080/"
        },
        "id": "60GUkKzbuaxf",
        "outputId": "0fb630b7-c5af-48cf-b12d-7cf0013f05e3"
      },
      "execution_count": 28,
      "outputs": [
        {
          "output_type": "stream",
          "name": "stdout",
          "text": [
            "a>b\n"
          ]
        }
      ]
    },
    {
      "cell_type": "code",
      "source": [
        "a=3\n",
        "b=4\n",
        "if a>b:\n",
        "  print(\"a>b\")\n",
        "else:\n",
        "  print(\"a<=b\")"
      ],
      "metadata": {
        "colab": {
          "base_uri": "https://localhost:8080/"
        },
        "id": "bF5Pjnm6wPRI",
        "outputId": "ce2d9b7e-8c30-4596-e503-3043447a8de0"
      },
      "execution_count": 29,
      "outputs": [
        {
          "output_type": "stream",
          "name": "stdout",
          "text": [
            "a<=b\n"
          ]
        }
      ]
    },
    {
      "cell_type": "code",
      "source": [
        "a=10\n",
        "b=10\n",
        "if a>b:\n",
        "  print(\"a>b\")\n",
        "elif a<b:\n",
        "  print(\"a<b\")\n",
        "else:\n",
        "  print(\"a=b\")"
      ],
      "metadata": {
        "colab": {
          "base_uri": "https://localhost:8080/"
        },
        "id": "2e7jFf7Gwc1X",
        "outputId": "48553ce7-beb4-4460-e9c3-d437673aaa86"
      },
      "execution_count": 32,
      "outputs": [
        {
          "output_type": "stream",
          "name": "stdout",
          "text": [
            "a=b\n"
          ]
        }
      ]
    },
    {
      "cell_type": "markdown",
      "source": [
        "## 練習\n",
        "請計算bmi並判斷體位\n",
        "\n",
        "$$bmi=\\frac{體重(kg)}{身高(m)^2}$$\n",
        "\n",
        "|條件|體位|\n",
        "|:-:|:-:|\n",
        "|bmi<18|體位過輕|\n",
        "|18<=bmi<=24|體位健康|\n",
        "|bmi>24|體位過重|"
      ],
      "metadata": {
        "id": "JMxC4hwyyGtN"
      }
    },
    {
      "cell_type": "code",
      "source": [
        "weight=88\n",
        "height=1.83\n",
        "\n",
        "bmi=weight/(height**2)\n",
        "\n",
        "if bmi>24:\n",
        "  print(\"體位過重\")\n",
        "elif bmi<18:\n",
        "  print(\"體位過輕\")\n",
        "else:\n",
        "  print(\"體位健康\")"
      ],
      "metadata": {
        "colab": {
          "base_uri": "https://localhost:8080/"
        },
        "id": "Vvo67yBPzC8M",
        "outputId": "1910832c-0a09-4662-fc0c-b83d368e50f0"
      },
      "execution_count": 49,
      "outputs": [
        {
          "output_type": "stream",
          "name": "stdout",
          "text": [
            "體位過重\n"
          ]
        }
      ]
    },
    {
      "cell_type": "code",
      "source": [
        "65/(1.7**2)"
      ],
      "metadata": {
        "colab": {
          "base_uri": "https://localhost:8080/"
        },
        "id": "PtSrXvOX2C5t",
        "outputId": "82ed0d93-eb58-4853-8e7a-b731725996c3"
      },
      "execution_count": 47,
      "outputs": [
        {
          "output_type": "execute_result",
          "data": {
            "text/plain": [
              "22.49134948096886"
            ]
          },
          "metadata": {},
          "execution_count": 47
        }
      ]
    },
    {
      "cell_type": "code",
      "source": [
        "def health1(w,h):\n",
        "  bmi=w/(h**2)\n",
        "  if bmi>24:\n",
        "    print(\"體位過重\")\n",
        "  elif bmi<18:\n",
        "    print(\"體位過輕\")\n",
        "  else:\n",
        "    print(\"體位健康\")"
      ],
      "metadata": {
        "id": "ZDeMu5Dl46YX"
      },
      "execution_count": 53,
      "outputs": []
    },
    {
      "cell_type": "code",
      "source": [
        "health1(80,1.77)"
      ],
      "metadata": {
        "colab": {
          "base_uri": "https://localhost:8080/"
        },
        "id": "SEQUHg7U5BAv",
        "outputId": "a7530e55-cec4-4bb2-fa7b-147f5840aeb7"
      },
      "execution_count": 54,
      "outputs": [
        {
          "output_type": "stream",
          "name": "stdout",
          "text": [
            "體位過重\n"
          ]
        }
      ]
    },
    {
      "cell_type": "code",
      "source": [
        "def health2(w,h):\n",
        "  bmi=w/(h**2)\n",
        "  if bmi>24:\n",
        "    return(\"體位過重\")\n",
        "  elif bmi<18:\n",
        "    return(\"體位過輕\")\n",
        "  else:\n",
        "    return(\"體位健康\")"
      ],
      "metadata": {
        "id": "9d0w1pQA2qzJ"
      },
      "execution_count": 57,
      "outputs": []
    },
    {
      "cell_type": "code",
      "source": [
        "health2(65,1.8)"
      ],
      "metadata": {
        "colab": {
          "base_uri": "https://localhost:8080/",
          "height": 35
        },
        "id": "EsChmaBs3K5U",
        "outputId": "cf454119-60d3-4f91-c3ac-d5473f6e30e9"
      },
      "execution_count": 59,
      "outputs": [
        {
          "output_type": "execute_result",
          "data": {
            "text/plain": [
              "'體位健康'"
            ],
            "application/vnd.google.colaboratory.intrinsic+json": {
              "type": "string"
            }
          },
          "metadata": {},
          "execution_count": 59
        }
      ]
    },
    {
      "cell_type": "code",
      "source": [
        "print(health1)\n",
        "print(health2)"
      ],
      "metadata": {
        "colab": {
          "base_uri": "https://localhost:8080/"
        },
        "id": "1zvoej_35fCc",
        "outputId": "94dc7814-5685-4924-8e6c-7e1b13d04494"
      },
      "execution_count": 60,
      "outputs": [
        {
          "output_type": "stream",
          "name": "stdout",
          "text": [
            "<function health1 at 0x7fb6f0742e60>\n",
            "<function health2 at 0x7fb6f06e9320>\n"
          ]
        }
      ]
    }
  ]
}