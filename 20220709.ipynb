{
  "nbformat": 4,
  "nbformat_minor": 0,
  "metadata": {
    "colab": {
      "name": "20220709.ipynb",
      "provenance": [],
      "authorship_tag": "ABX9TyORsfczGaIEyzTtWbpr79a9",
      "include_colab_link": true
    },
    "kernelspec": {
      "name": "python3",
      "display_name": "Python 3"
    },
    "language_info": {
      "name": "python"
    }
  },
  "cells": [
    {
      "cell_type": "markdown",
      "metadata": {
        "id": "view-in-github",
        "colab_type": "text"
      },
      "source": [
        "<a href=\"https://colab.research.google.com/github/AlvisSu/20220702-python-lesson/blob/main/20220709.ipynb\" target=\"_parent\"><img src=\"https://colab.research.google.com/assets/colab-badge.svg\" alt=\"Open In Colab\"/></a>"
      ]
    },
    {
      "cell_type": "markdown",
      "source": [
        "# 初學者需要知道的概念\n",
        "* 資料型態\n",
        "  * int ==> 整數(0,1,2,...)\n",
        "  * float ==> 浮點數(3.14,1.1,...)\n",
        "  * bool ==> 布林變數(True,False)\n",
        "  * str ==> 字串(\"dog\",'cat',...)\n",
        "* 容器型別\n",
        "  * list ==> 串列[]\n",
        "  * tuple ==> 元祖()\n",
        "  * dict ==> 字典{}\n",
        "  * set ==> 集合{}\n",
        "* 基礎語法\n",
        "  * loops ==>迴圈\n",
        "  * functions ==>函式\n",
        "  * if statements ==>條件式\n",
        "  * exception handling ==>例外處理"
      ],
      "metadata": {
        "id": "I_B3M7Eqfz18"
      }
    },
    {
      "cell_type": "code",
      "execution_count": null,
      "metadata": {
        "id": "lN7Y6xMaftuu"
      },
      "outputs": [],
      "source": [
        ""
      ]
    }
  ]
}