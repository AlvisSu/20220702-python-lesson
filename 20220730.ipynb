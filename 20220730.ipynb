{
  "nbformat": 4,
  "nbformat_minor": 0,
  "metadata": {
    "colab": {
      "name": "20220730.ipynb",
      "provenance": [],
      "authorship_tag": "ABX9TyNAhuMj2InW+4uFpc/dX9R+",
      "include_colab_link": true
    },
    "kernelspec": {
      "name": "python3",
      "display_name": "Python 3"
    },
    "language_info": {
      "name": "python"
    }
  },
  "cells": [
    {
      "cell_type": "markdown",
      "metadata": {
        "id": "view-in-github",
        "colab_type": "text"
      },
      "source": [
        "<a href=\"https://colab.research.google.com/github/AlvisSu/20220702-python-lesson/blob/main/20220730.ipynb\" target=\"_parent\"><img src=\"https://colab.research.google.com/assets/colab-badge.svg\" alt=\"Open In Colab\"/></a>"
      ]
    },
    {
      "cell_type": "markdown",
      "source": [
        "# 使用Teachable Machine"
      ],
      "metadata": {
        "id": "prQ-dy_76u2A"
      }
    },
    {
      "cell_type": "code",
      "source": [
        "#解壓縮\n",
        "!unzip model.zip"
      ],
      "metadata": {
        "colab": {
          "base_uri": "https://localhost:8080/"
        },
        "id": "RV8LgmZd4Tbf",
        "outputId": "9062e39e-acfc-4da4-93fa-ed48b543b098"
      },
      "execution_count": 5,
      "outputs": [
        {
          "output_type": "stream",
          "name": "stdout",
          "text": [
            "Archive:  model.zip\n",
            "replace keras_model.h5? [y]es, [n]o, [A]ll, [N]one, [r]ename: N\n"
          ]
        }
      ]
    },
    {
      "cell_type": "code",
      "execution_count": 29,
      "metadata": {
        "colab": {
          "base_uri": "https://localhost:8080/"
        },
        "id": "apEFp8JJnDc8",
        "outputId": "0fc53711-1c5a-4f1a-89a7-d9cbf3c6062a"
      },
      "outputs": [
        {
          "output_type": "stream",
          "name": "stderr",
          "text": [
            "WARNING:tensorflow:No training configuration found in the save file, so the model was *not* compiled. Compile it manually.\n"
          ]
        },
        {
          "output_type": "stream",
          "name": "stdout",
          "text": [
            "[[0.96174896 0.03825106]]\n"
          ]
        }
      ],
      "source": [
        "from keras.models import load_model\n",
        "from PIL import Image, ImageOps\n",
        "import numpy as np\n",
        "\n",
        "# Load the model\n",
        "model = load_model('keras_model.h5')\n",
        "\n",
        "# Create the array of the right shape to feed into the keras model\n",
        "# The 'length' or number of images you can put into the array is\n",
        "# determined by the first position in the shape tuple, in this case 1.\n",
        "data = np.ndarray(shape=(1, 224, 224, 3), dtype=np.float32)\n",
        "# Replace this with the path to your image\n",
        "image = Image.open('00725.jpg')\n",
        "#resize the image to a 224x224 with the same strategy as in TM2:\n",
        "#resizing the image to be at least 224x224 and then cropping from the center\n",
        "size = (224, 224)\n",
        "image = ImageOps.fit(image, size, Image.ANTIALIAS)\n",
        "\n",
        "#turn the image into a numpy array\n",
        "image_array = np.asarray(image)\n",
        "# Normalize the image\n",
        "normalized_image_array = (image_array.astype(np.float32) / 127.0) - 1\n",
        "# Load the image into the array\n",
        "data[0] = normalized_image_array\n",
        "\n",
        "# run the inference\n",
        "prediction = model.predict(data)\n",
        "print(prediction)"
      ]
    },
    {
      "cell_type": "markdown",
      "source": [
        "# 使用Gradio打包上面的模型來使用"
      ],
      "metadata": {
        "id": "5BzLSm1162DD"
      }
    },
    {
      "cell_type": "code",
      "source": [
        "!pip install gradio"
      ],
      "metadata": {
        "id": "jS7L2Uay6spQ"
      },
      "execution_count": null,
      "outputs": []
    },
    {
      "cell_type": "code",
      "source": [
        "import random"
      ],
      "metadata": {
        "id": "-AtykDGJCkgP"
      },
      "execution_count": 17,
      "outputs": []
    },
    {
      "cell_type": "code",
      "source": [
        "def classify(image):\n",
        "  # Load the model\n",
        "  model = load_model('keras_model.h5')\n",
        "\n",
        "  image.save(f\"{random.randint(0, 10000):05}.jpg\")\n",
        "\n",
        "  # Create the array of the right shape to feed into the keras model\n",
        "  # The 'length' or number of images you can put into the array is\n",
        "  # determined by the first position in the shape tuple, in this case 1.\n",
        "  data = np.ndarray(shape=(1, 224, 224, 3), dtype=np.float32)\n",
        "  # Replace this with the path to your image\n",
        "  # image = Image.open('AS.png')\n",
        "  #resize the image to a 224x224 with the same strategy as in TM2:\n",
        "  #resizing the image to be at least 224x224 and then cropping from the center\n",
        "  size = (224, 224)\n",
        "  image = ImageOps.fit(image, size, Image.ANTIALIAS)\n",
        "\n",
        "  #turn the image into a numpy array\n",
        "  image_array = np.asarray(image)\n",
        "  # Normalize the image\n",
        "  normalized_image_array = (image_array.astype(np.float32) / 127.0) - 1\n",
        "  # Load the image into the array\n",
        "  data[0] = normalized_image_array\n",
        "\n",
        "  # run the inference\n",
        "  prediction = model.predict(data)\n",
        "  labels = [\"戴著口罩的A\", \"沒有戴口罩的A\"]\n",
        "  return labels[np.argmax(prediction)]"
      ],
      "metadata": {
        "id": "fCUb7qrs7HoG"
      },
      "execution_count": 26,
      "outputs": []
    },
    {
      "cell_type": "code",
      "source": [
        "import gradio as gr"
      ],
      "metadata": {
        "id": "Cvkqb8Yj7ma5"
      },
      "execution_count": 27,
      "outputs": []
    },
    {
      "cell_type": "code",
      "source": [
        "gr.Interface(classify, inputs=gr.Image(type=\"pil\"), outputs=\"text\").launch(share=True)"
      ],
      "metadata": {
        "colab": {
          "base_uri": "https://localhost:8080/",
          "height": 663
        },
        "id": "w8JAbIqz7r4-",
        "outputId": "cadcd052-4964-4b65-e3f5-37e554f90b5d"
      },
      "execution_count": 28,
      "outputs": [
        {
          "output_type": "stream",
          "name": "stdout",
          "text": [
            "Colab notebook detected. To show errors in colab notebook, set `debug=True` in `launch()`\n",
            "Running on public URL: https://34142.gradio.app\n",
            "\n",
            "This share link expires in 72 hours. For free permanent hosting, check out Spaces: https://huggingface.co/spaces\n"
          ]
        },
        {
          "output_type": "display_data",
          "data": {
            "text/plain": [
              "<IPython.core.display.HTML object>"
            ],
            "text/html": [
              "<div><iframe src=\"https://34142.gradio.app\" width=\"900\" height=\"500\" allow=\"autoplay; camera; microphone;\" frameborder=\"0\" allowfullscreen></iframe></div>"
            ]
          },
          "metadata": {}
        },
        {
          "output_type": "execute_result",
          "data": {
            "text/plain": [
              "(<gradio.routes.App at 0x7f49fbaf2710>,\n",
              " 'http://127.0.0.1:7863/',\n",
              " 'https://34142.gradio.app')"
            ]
          },
          "metadata": {},
          "execution_count": 28
        }
      ]
    },
    {
      "cell_type": "code",
      "source": [
        "from PIL import Image"
      ],
      "metadata": {
        "id": "EBnhYH8HC_fD"
      },
      "execution_count": 21,
      "outputs": []
    },
    {
      "cell_type": "code",
      "source": [
        "im = Image.open(\"05553.jpg\")"
      ],
      "metadata": {
        "id": "XNsCDNzfDEG7"
      },
      "execution_count": 22,
      "outputs": []
    },
    {
      "cell_type": "code",
      "source": [
        "classify(im)"
      ],
      "metadata": {
        "colab": {
          "base_uri": "https://localhost:8080/",
          "height": 72
        },
        "id": "uFkSA7CpDKZV",
        "outputId": "39a5bd35-f26d-4e89-eda5-a8b4c7751fdd"
      },
      "execution_count": 25,
      "outputs": [
        {
          "output_type": "stream",
          "name": "stderr",
          "text": [
            "WARNING:tensorflow:No training configuration found in the save file, so the model was *not* compiled. Compile it manually.\n"
          ]
        },
        {
          "output_type": "execute_result",
          "data": {
            "text/plain": [
              "'戴著口罩的A'"
            ],
            "application/vnd.google.colaboratory.intrinsic+json": {
              "type": "string"
            }
          },
          "metadata": {},
          "execution_count": 25
        }
      ]
    },
    {
      "cell_type": "code",
      "source": [
        "x = [1, 2, 3, 4, 3, 2, 1]"
      ],
      "metadata": {
        "id": "3VjC2ziZDMHh"
      },
      "execution_count": 32,
      "outputs": []
    },
    {
      "cell_type": "code",
      "source": [
        "#讓y最大的x值\n",
        "#y=f(x)\n",
        "np.argmax(x)"
      ],
      "metadata": {
        "colab": {
          "base_uri": "https://localhost:8080/"
        },
        "id": "FXPaBSxXFYwi",
        "outputId": "e778102e-81ad-4330-96d9-515ae97c0bb1"
      },
      "execution_count": 33,
      "outputs": [
        {
          "output_type": "execute_result",
          "data": {
            "text/plain": [
              "3"
            ]
          },
          "metadata": {},
          "execution_count": 33
        }
      ]
    },
    {
      "cell_type": "markdown",
      "source": [
        "## 練習\n",
        "\n",
        "請輸出0-15的二進位及時溜進位的數值"
      ],
      "metadata": {
        "id": "9DO-NCN0GNYy"
      }
    },
    {
      "cell_type": "code",
      "source": [
        "#i:2>>保持兩位數，i:02>>兩位數+0\n",
        "for i in range(16):\n",
        "  print(f\"{i:2}的二進位是:{i:b}\")"
      ],
      "metadata": {
        "colab": {
          "base_uri": "https://localhost:8080/"
        },
        "id": "rqfBKG8KGJtI",
        "outputId": "7839db6e-4300-41ee-8d92-ff2bdc420930"
      },
      "execution_count": 45,
      "outputs": [
        {
          "output_type": "stream",
          "name": "stdout",
          "text": [
            " 0的二進位是:0\n",
            " 1的二進位是:1\n",
            " 2的二進位是:10\n",
            " 3的二進位是:11\n",
            " 4的二進位是:100\n",
            " 5的二進位是:101\n",
            " 6的二進位是:110\n",
            " 7的二進位是:111\n",
            " 8的二進位是:1000\n",
            " 9的二進位是:1001\n",
            "10的二進位是:1010\n",
            "11的二進位是:1011\n",
            "12的二進位是:1100\n",
            "13的二進位是:1101\n",
            "14的二進位是:1110\n",
            "15的二進位是:1111\n"
          ]
        }
      ]
    },
    {
      "cell_type": "code",
      "source": [
        "#對齊、補0\n",
        "for i in range(16):\n",
        "  print(f\"{i:2}的二進位是:{i:04b}\")"
      ],
      "metadata": {
        "colab": {
          "base_uri": "https://localhost:8080/"
        },
        "id": "l3jC8Xk0HnQn",
        "outputId": "c988472e-885c-4462-f58b-ab6b982877a1"
      },
      "execution_count": 46,
      "outputs": [
        {
          "output_type": "stream",
          "name": "stdout",
          "text": [
            " 0的二進位是:0000\n",
            " 1的二進位是:0001\n",
            " 2的二進位是:0010\n",
            " 3的二進位是:0011\n",
            " 4的二進位是:0100\n",
            " 5的二進位是:0101\n",
            " 6的二進位是:0110\n",
            " 7的二進位是:0111\n",
            " 8的二進位是:1000\n",
            " 9的二進位是:1001\n",
            "10的二進位是:1010\n",
            "11的二進位是:1011\n",
            "12的二進位是:1100\n",
            "13的二進位是:1101\n",
            "14的二進位是:1110\n",
            "15的二進位是:1111\n"
          ]
        }
      ]
    }
  ]
}