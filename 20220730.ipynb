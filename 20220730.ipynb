{
  "nbformat": 4,
  "nbformat_minor": 0,
  "metadata": {
    "colab": {
      "name": "20220730.ipynb",
      "provenance": [],
      "toc_visible": true,
      "authorship_tag": "ABX9TyNvY+T+7GyolJfZN7PU2JXR",
      "include_colab_link": true
    },
    "kernelspec": {
      "name": "python3",
      "display_name": "Python 3"
    },
    "language_info": {
      "name": "python"
    }
  },
  "cells": [
    {
      "cell_type": "markdown",
      "metadata": {
        "id": "view-in-github",
        "colab_type": "text"
      },
      "source": [
        "<a href=\"https://colab.research.google.com/github/AlvisSu/20220702-python-lesson/blob/main/20220730.ipynb\" target=\"_parent\"><img src=\"https://colab.research.google.com/assets/colab-badge.svg\" alt=\"Open In Colab\"/></a>"
      ]
    },
    {
      "cell_type": "markdown",
      "source": [
        "# 使用Teachable Machine"
      ],
      "metadata": {
        "id": "prQ-dy_76u2A"
      }
    },
    {
      "cell_type": "code",
      "source": [
        "#解壓縮\n",
        "!unzip model.zip"
      ],
      "metadata": {
        "colab": {
          "base_uri": "https://localhost:8080/"
        },
        "id": "RV8LgmZd4Tbf",
        "outputId": "9062e39e-acfc-4da4-93fa-ed48b543b098"
      },
      "execution_count": 5,
      "outputs": [
        {
          "output_type": "stream",
          "name": "stdout",
          "text": [
            "Archive:  model.zip\n",
            "replace keras_model.h5? [y]es, [n]o, [A]ll, [N]one, [r]ename: N\n"
          ]
        }
      ]
    },
    {
      "cell_type": "code",
      "execution_count": 29,
      "metadata": {
        "colab": {
          "base_uri": "https://localhost:8080/"
        },
        "id": "apEFp8JJnDc8",
        "outputId": "0fc53711-1c5a-4f1a-89a7-d9cbf3c6062a"
      },
      "outputs": [
        {
          "output_type": "stream",
          "name": "stderr",
          "text": [
            "WARNING:tensorflow:No training configuration found in the save file, so the model was *not* compiled. Compile it manually.\n"
          ]
        },
        {
          "output_type": "stream",
          "name": "stdout",
          "text": [
            "[[0.96174896 0.03825106]]\n"
          ]
        }
      ],
      "source": [
        "from keras.models import load_model\n",
        "from PIL import Image, ImageOps\n",
        "import numpy as np\n",
        "\n",
        "# Load the model\n",
        "model = load_model('keras_model.h5')\n",
        "\n",
        "# Create the array of the right shape to feed into the keras model\n",
        "# The 'length' or number of images you can put into the array is\n",
        "# determined by the first position in the shape tuple, in this case 1.\n",
        "data = np.ndarray(shape=(1, 224, 224, 3), dtype=np.float32)\n",
        "# Replace this with the path to your image\n",
        "image = Image.open('00725.jpg')\n",
        "#resize the image to a 224x224 with the same strategy as in TM2:\n",
        "#resizing the image to be at least 224x224 and then cropping from the center\n",
        "size = (224, 224)\n",
        "image = ImageOps.fit(image, size, Image.ANTIALIAS)\n",
        "\n",
        "#turn the image into a numpy array\n",
        "image_array = np.asarray(image)\n",
        "# Normalize the image\n",
        "normalized_image_array = (image_array.astype(np.float32) / 127.0) - 1\n",
        "# Load the image into the array\n",
        "data[0] = normalized_image_array\n",
        "\n",
        "# run the inference\n",
        "prediction = model.predict(data)\n",
        "print(prediction)"
      ]
    },
    {
      "cell_type": "markdown",
      "source": [
        "# 使用Gradio打包上面的模型來使用"
      ],
      "metadata": {
        "id": "5BzLSm1162DD"
      }
    },
    {
      "cell_type": "code",
      "source": [
        "!pip install gradio"
      ],
      "metadata": {
        "id": "jS7L2Uay6spQ"
      },
      "execution_count": null,
      "outputs": []
    },
    {
      "cell_type": "code",
      "source": [
        "import random"
      ],
      "metadata": {
        "id": "-AtykDGJCkgP"
      },
      "execution_count": 17,
      "outputs": []
    },
    {
      "cell_type": "code",
      "source": [
        "def classify(image):\n",
        "  # Load the model\n",
        "  model = load_model('keras_model.h5')\n",
        "\n",
        "  image.save(f\"{random.randint(0, 10000):05}.jpg\")\n",
        "\n",
        "  # Create the array of the right shape to feed into the keras model\n",
        "  # The 'length' or number of images you can put into the array is\n",
        "  # determined by the first position in the shape tuple, in this case 1.\n",
        "  data = np.ndarray(shape=(1, 224, 224, 3), dtype=np.float32)\n",
        "  # Replace this with the path to your image\n",
        "  # image = Image.open('AS.png')\n",
        "  #resize the image to a 224x224 with the same strategy as in TM2:\n",
        "  #resizing the image to be at least 224x224 and then cropping from the center\n",
        "  size = (224, 224)\n",
        "  image = ImageOps.fit(image, size, Image.ANTIALIAS)\n",
        "\n",
        "  #turn the image into a numpy array\n",
        "  image_array = np.asarray(image)\n",
        "  # Normalize the image\n",
        "  normalized_image_array = (image_array.astype(np.float32) / 127.0) - 1\n",
        "  # Load the image into the array\n",
        "  data[0] = normalized_image_array\n",
        "\n",
        "  # run the inference\n",
        "  prediction = model.predict(data)\n",
        "  labels = [\"戴著口罩的A\", \"沒有戴口罩的A\"]\n",
        "  return labels[np.argmax(prediction)]"
      ],
      "metadata": {
        "id": "fCUb7qrs7HoG"
      },
      "execution_count": 26,
      "outputs": []
    },
    {
      "cell_type": "code",
      "source": [
        "import gradio as gr"
      ],
      "metadata": {
        "id": "Cvkqb8Yj7ma5"
      },
      "execution_count": 27,
      "outputs": []
    },
    {
      "cell_type": "code",
      "source": [
        "gr.Interface(classify, inputs=gr.Image(type=\"pil\"), outputs=\"text\").launch(share=True)"
      ],
      "metadata": {
        "colab": {
          "base_uri": "https://localhost:8080/",
          "height": 663
        },
        "id": "w8JAbIqz7r4-",
        "outputId": "cadcd052-4964-4b65-e3f5-37e554f90b5d"
      },
      "execution_count": 28,
      "outputs": [
        {
          "output_type": "stream",
          "name": "stdout",
          "text": [
            "Colab notebook detected. To show errors in colab notebook, set `debug=True` in `launch()`\n",
            "Running on public URL: https://34142.gradio.app\n",
            "\n",
            "This share link expires in 72 hours. For free permanent hosting, check out Spaces: https://huggingface.co/spaces\n"
          ]
        },
        {
          "output_type": "display_data",
          "data": {
            "text/plain": [
              "<IPython.core.display.HTML object>"
            ],
            "text/html": [
              "<div><iframe src=\"https://34142.gradio.app\" width=\"900\" height=\"500\" allow=\"autoplay; camera; microphone;\" frameborder=\"0\" allowfullscreen></iframe></div>"
            ]
          },
          "metadata": {}
        },
        {
          "output_type": "execute_result",
          "data": {
            "text/plain": [
              "(<gradio.routes.App at 0x7f49fbaf2710>,\n",
              " 'http://127.0.0.1:7863/',\n",
              " 'https://34142.gradio.app')"
            ]
          },
          "metadata": {},
          "execution_count": 28
        }
      ]
    },
    {
      "cell_type": "code",
      "source": [
        "from PIL import Image"
      ],
      "metadata": {
        "id": "EBnhYH8HC_fD"
      },
      "execution_count": 21,
      "outputs": []
    },
    {
      "cell_type": "code",
      "source": [
        "im = Image.open(\"05553.jpg\")"
      ],
      "metadata": {
        "id": "XNsCDNzfDEG7"
      },
      "execution_count": 22,
      "outputs": []
    },
    {
      "cell_type": "code",
      "source": [
        "classify(im)"
      ],
      "metadata": {
        "colab": {
          "base_uri": "https://localhost:8080/",
          "height": 72
        },
        "id": "uFkSA7CpDKZV",
        "outputId": "39a5bd35-f26d-4e89-eda5-a8b4c7751fdd"
      },
      "execution_count": 25,
      "outputs": [
        {
          "output_type": "stream",
          "name": "stderr",
          "text": [
            "WARNING:tensorflow:No training configuration found in the save file, so the model was *not* compiled. Compile it manually.\n"
          ]
        },
        {
          "output_type": "execute_result",
          "data": {
            "text/plain": [
              "'戴著口罩的A'"
            ],
            "application/vnd.google.colaboratory.intrinsic+json": {
              "type": "string"
            }
          },
          "metadata": {},
          "execution_count": 25
        }
      ]
    },
    {
      "cell_type": "code",
      "source": [
        "x = [1, 2, 3, 4, 3, 2, 1]"
      ],
      "metadata": {
        "id": "3VjC2ziZDMHh"
      },
      "execution_count": 32,
      "outputs": []
    },
    {
      "cell_type": "code",
      "source": [
        "#讓y最大的x值\n",
        "#y=f(x)\n",
        "np.argmax(x)"
      ],
      "metadata": {
        "colab": {
          "base_uri": "https://localhost:8080/"
        },
        "id": "FXPaBSxXFYwi",
        "outputId": "e778102e-81ad-4330-96d9-515ae97c0bb1"
      },
      "execution_count": 33,
      "outputs": [
        {
          "output_type": "execute_result",
          "data": {
            "text/plain": [
              "3"
            ]
          },
          "metadata": {},
          "execution_count": 33
        }
      ]
    },
    {
      "cell_type": "markdown",
      "source": [
        "## 練習\n",
        "\n",
        "請輸出0-15的二進位及時溜進位的數值"
      ],
      "metadata": {
        "id": "9DO-NCN0GNYy"
      }
    },
    {
      "cell_type": "code",
      "source": [
        "#i:2>>保持兩位數，i:02>>兩位數+0\n",
        "for i in range(16):\n",
        "  print(f\"{i:2}的二進位是:{i:b}\")"
      ],
      "metadata": {
        "colab": {
          "base_uri": "https://localhost:8080/"
        },
        "id": "rqfBKG8KGJtI",
        "outputId": "7839db6e-4300-41ee-8d92-ff2bdc420930"
      },
      "execution_count": 45,
      "outputs": [
        {
          "output_type": "stream",
          "name": "stdout",
          "text": [
            " 0的二進位是:0\n",
            " 1的二進位是:1\n",
            " 2的二進位是:10\n",
            " 3的二進位是:11\n",
            " 4的二進位是:100\n",
            " 5的二進位是:101\n",
            " 6的二進位是:110\n",
            " 7的二進位是:111\n",
            " 8的二進位是:1000\n",
            " 9的二進位是:1001\n",
            "10的二進位是:1010\n",
            "11的二進位是:1011\n",
            "12的二進位是:1100\n",
            "13的二進位是:1101\n",
            "14的二進位是:1110\n",
            "15的二進位是:1111\n"
          ]
        }
      ]
    },
    {
      "cell_type": "code",
      "source": [
        "#對齊、補0\n",
        "for i in range(16):\n",
        "  print(f\"{i:2}的二進位是:{i:04b}\")"
      ],
      "metadata": {
        "colab": {
          "base_uri": "https://localhost:8080/"
        },
        "id": "l3jC8Xk0HnQn",
        "outputId": "c988472e-885c-4462-f58b-ab6b982877a1"
      },
      "execution_count": 46,
      "outputs": [
        {
          "output_type": "stream",
          "name": "stdout",
          "text": [
            " 0的二進位是:0000\n",
            " 1的二進位是:0001\n",
            " 2的二進位是:0010\n",
            " 3的二進位是:0011\n",
            " 4的二進位是:0100\n",
            " 5的二進位是:0101\n",
            " 6的二進位是:0110\n",
            " 7的二進位是:0111\n",
            " 8的二進位是:1000\n",
            " 9的二進位是:1001\n",
            "10的二進位是:1010\n",
            "11的二進位是:1011\n",
            "12的二進位是:1100\n",
            "13的二進位是:1101\n",
            "14的二進位是:1110\n",
            "15的二進位是:1111\n"
          ]
        }
      ]
    },
    {
      "cell_type": "markdown",
      "source": [
        "# Scikit-Learn 簡介"
      ],
      "metadata": {
        "id": "D7vJ-iwWfHCn"
      }
    },
    {
      "cell_type": "markdown",
      "source": [
        "```python\n",
        "1.載入模型\n",
        "\n",
        "from sklearn.svm import SVC\n",
        "\n",
        "2.建立模型\n",
        "\n",
        "clf = SVC()\n",
        "\n",
        "3.訓練模型\n",
        "\n",
        "clf.fit(x_train, y_train)\n",
        "\n",
        "4.使用模型\n",
        "\n",
        "y_predict = clf.predict(x_test)\n",
        "```"
      ],
      "metadata": {
        "id": "oXoQValNg9kP"
      }
    },
    {
      "cell_type": "markdown",
      "source": [
        "## 載入資料集"
      ],
      "metadata": {
        "id": "duUICqH8k-F8"
      }
    },
    {
      "cell_type": "code",
      "source": [
        "from sklearn import datasets"
      ],
      "metadata": {
        "id": "ko8rFVRdlFD5"
      },
      "execution_count": 1,
      "outputs": []
    },
    {
      "cell_type": "code",
      "source": [
        "iris = datasets.load_iris()"
      ],
      "metadata": {
        "id": "TzAzx3wjlLCm"
      },
      "execution_count": 2,
      "outputs": []
    },
    {
      "cell_type": "code",
      "source": [
        "iris.feature_names"
      ],
      "metadata": {
        "colab": {
          "base_uri": "https://localhost:8080/"
        },
        "id": "fFdBiA19lXaS",
        "outputId": "bdb3db17-d6b5-41fa-ed3e-9a1746a8e428"
      },
      "execution_count": 3,
      "outputs": [
        {
          "output_type": "execute_result",
          "data": {
            "text/plain": [
              "['sepal length (cm)',\n",
              " 'sepal width (cm)',\n",
              " 'petal length (cm)',\n",
              " 'petal width (cm)']"
            ]
          },
          "metadata": {},
          "execution_count": 3
        }
      ]
    },
    {
      "cell_type": "code",
      "source": [
        "iris.target_names"
      ],
      "metadata": {
        "colab": {
          "base_uri": "https://localhost:8080/"
        },
        "id": "ACCsd96PldY3",
        "outputId": "1958b9f8-2d9c-4566-edd2-79f6ba0202dc"
      },
      "execution_count": 4,
      "outputs": [
        {
          "output_type": "execute_result",
          "data": {
            "text/plain": [
              "array(['setosa', 'versicolor', 'virginica'], dtype='<U10')"
            ]
          },
          "metadata": {},
          "execution_count": 4
        }
      ]
    },
    {
      "cell_type": "code",
      "source": [
        "X = iris.data"
      ],
      "metadata": {
        "id": "NiCoEmtQlkl3"
      },
      "execution_count": 26,
      "outputs": []
    },
    {
      "cell_type": "code",
      "source": [
        "y = iris.target"
      ],
      "metadata": {
        "id": "H9Wc2O5alrZe"
      },
      "execution_count": 21,
      "outputs": []
    },
    {
      "cell_type": "code",
      "source": [
        "X[0]"
      ],
      "metadata": {
        "colab": {
          "base_uri": "https://localhost:8080/"
        },
        "id": "VPm3yb0dlwm8",
        "outputId": "51abde3d-814a-4439-fac1-e54c047bb133"
      },
      "execution_count": 27,
      "outputs": [
        {
          "output_type": "execute_result",
          "data": {
            "text/plain": [
              "array([5.1, 3.5, 1.4, 0.2])"
            ]
          },
          "metadata": {},
          "execution_count": 27
        }
      ]
    },
    {
      "cell_type": "code",
      "source": [
        "len(X)"
      ],
      "metadata": {
        "colab": {
          "base_uri": "https://localhost:8080/"
        },
        "id": "XKEr6ioknAne",
        "outputId": "a35c1d32-a780-4529-f329-fb67c3fb00a8"
      },
      "execution_count": 28,
      "outputs": [
        {
          "output_type": "execute_result",
          "data": {
            "text/plain": [
              "150"
            ]
          },
          "metadata": {},
          "execution_count": 28
        }
      ]
    },
    {
      "cell_type": "code",
      "source": [
        "y[0]"
      ],
      "metadata": {
        "colab": {
          "base_uri": "https://localhost:8080/"
        },
        "id": "AW3l2bwqmDT1",
        "outputId": "e8d13a55-2285-4318-db18-87ffb2cc3b6e"
      },
      "execution_count": 24,
      "outputs": [
        {
          "output_type": "execute_result",
          "data": {
            "text/plain": [
              "0"
            ]
          },
          "metadata": {},
          "execution_count": 24
        }
      ]
    },
    {
      "cell_type": "code",
      "source": [
        "y"
      ],
      "metadata": {
        "colab": {
          "base_uri": "https://localhost:8080/"
        },
        "id": "bofgL401mqPu",
        "outputId": "868ece12-3117-4841-ca98-fbfc0964fe58"
      },
      "execution_count": 25,
      "outputs": [
        {
          "output_type": "execute_result",
          "data": {
            "text/plain": [
              "array([0, 0, 0, 0, 0, 0, 0, 0, 0, 0, 0, 0, 0, 0, 0, 0, 0, 0, 0, 0, 0, 0,\n",
              "       0, 0, 0, 0, 0, 0, 0, 0, 0, 0, 0, 0, 0, 0, 0, 0, 0, 0, 0, 0, 0, 0,\n",
              "       0, 0, 0, 0, 0, 0, 1, 1, 1, 1, 1, 1, 1, 1, 1, 1, 1, 1, 1, 1, 1, 1,\n",
              "       1, 1, 1, 1, 1, 1, 1, 1, 1, 1, 1, 1, 1, 1, 1, 1, 1, 1, 1, 1, 1, 1,\n",
              "       1, 1, 1, 1, 1, 1, 1, 1, 1, 1, 1, 1, 2, 2, 2, 2, 2, 2, 2, 2, 2, 2,\n",
              "       2, 2, 2, 2, 2, 2, 2, 2, 2, 2, 2, 2, 2, 2, 2, 2, 2, 2, 2, 2, 2, 2,\n",
              "       2, 2, 2, 2, 2, 2, 2, 2, 2, 2, 2, 2, 2, 2, 2, 2, 2, 2])"
            ]
          },
          "metadata": {},
          "execution_count": 25
        }
      ]
    },
    {
      "cell_type": "markdown",
      "source": [
        "## 拆分訓練集及測試集\n",
        "\n",
        "X:題目\n",
        "\n",
        "Y:答案"
      ],
      "metadata": {
        "id": "rTf8oQ3pm2RO"
      }
    },
    {
      "cell_type": "code",
      "source": [
        "from sklearn.model_selection import train_test_split"
      ],
      "metadata": {
        "id": "7tAxg-JDmu9Z"
      },
      "execution_count": 18,
      "outputs": []
    },
    {
      "cell_type": "code",
      "source": [
        "#網站抓取原資料\n",
        "X_train, X_test, y_train, y_test = train_test_split(X, y, test_size=0.33, random_state=42)"
      ],
      "metadata": {
        "id": "8idKh6AunrSW"
      },
      "execution_count": 35,
      "outputs": []
    },
    {
      "cell_type": "code",
      "source": [
        "#20%拿來做測試\n",
        "X_train, X_test, y_train, y_test = train_test_split(X, y, test_size=0.2)"
      ],
      "metadata": {
        "id": "Z4ZWlqKyntGQ"
      },
      "execution_count": 36,
      "outputs": []
    },
    {
      "cell_type": "markdown",
      "source": [
        "## 使用SVM來做分類"
      ],
      "metadata": {
        "id": "1iWI5ywqool1"
      }
    },
    {
      "cell_type": "code",
      "source": [
        "#1. 載入模型\n",
        "from sklearn.svm import SVC"
      ],
      "metadata": {
        "id": "RSt61a-3orgq"
      },
      "execution_count": 37,
      "outputs": []
    },
    {
      "cell_type": "code",
      "source": [
        "#2. 建立模型\n",
        "clf = SVC()"
      ],
      "metadata": {
        "id": "Q31LCF2kovHQ"
      },
      "execution_count": 38,
      "outputs": []
    },
    {
      "cell_type": "code",
      "source": [
        "#3. 訓練模型\n",
        "clf.fit(X_train, y_train)"
      ],
      "metadata": {
        "colab": {
          "base_uri": "https://localhost:8080/"
        },
        "id": "j6xK3w6DoxX_",
        "outputId": "694e57f0-bc66-4f34-84f2-3ddb33e3c41c"
      },
      "execution_count": 39,
      "outputs": [
        {
          "output_type": "execute_result",
          "data": {
            "text/plain": [
              "SVC()"
            ]
          },
          "metadata": {},
          "execution_count": 39
        }
      ]
    },
    {
      "cell_type": "code",
      "source": [
        "# 計算模型準確度(Accuracy)\n",
        "clf.score(X_test, y_test)"
      ],
      "metadata": {
        "colab": {
          "base_uri": "https://localhost:8080/"
        },
        "id": "fGAEkwaTo2Wu",
        "outputId": "2e2895d0-93f7-460d-9569-2284c6ce1f0f"
      },
      "execution_count": 40,
      "outputs": [
        {
          "output_type": "execute_result",
          "data": {
            "text/plain": [
              "1.0"
            ]
          },
          "metadata": {},
          "execution_count": 40
        }
      ]
    },
    {
      "cell_type": "code",
      "source": [
        "#4. 使用模型\n",
        "clf.predict(X_test)"
      ],
      "metadata": {
        "colab": {
          "base_uri": "https://localhost:8080/"
        },
        "id": "Jd7Ri_4dozOI",
        "outputId": "cf8802b3-97c3-4b52-d0bd-0b18894783d0"
      },
      "execution_count": 41,
      "outputs": [
        {
          "output_type": "execute_result",
          "data": {
            "text/plain": [
              "array([2, 1, 0, 2, 0, 1, 1, 2, 1, 1, 2, 2, 0, 1, 0, 0, 2, 1, 2, 0, 2, 0,\n",
              "       1, 1, 0, 1, 1, 0, 1, 0])"
            ]
          },
          "metadata": {},
          "execution_count": 41
        }
      ]
    },
    {
      "cell_type": "markdown",
      "source": [
        "## 使用Random Forest來做分類\n",
        "\n",
        "https://scikit-learn.org/stable/modules/generated/sklearn.ensemble.RandomForestClassifier.html"
      ],
      "metadata": {
        "id": "RohvuZYtv4XL"
      }
    },
    {
      "cell_type": "code",
      "source": [
        "#1. 載入模型\n",
        "from sklearn.ensemble import RandomForestClassifier"
      ],
      "metadata": {
        "id": "K4vFhZQLv35V"
      },
      "execution_count": 42,
      "outputs": []
    },
    {
      "cell_type": "code",
      "source": [
        "#2. 建立模型\n",
        "#clf = RandomForestClassifier(max_depth=2, random_state=0)\n",
        "#clf = RandomForestClassifier() << 使用預設\n",
        "clf = RandomForestClassifier()"
      ],
      "metadata": {
        "id": "RHw4RHb_zeYB"
      },
      "execution_count": 43,
      "outputs": []
    },
    {
      "cell_type": "code",
      "source": [
        "#3. 訓練模型\n",
        "clf.fit(X_train, y_train)"
      ],
      "metadata": {
        "colab": {
          "base_uri": "https://localhost:8080/"
        },
        "id": "-E9J-mxMz37k",
        "outputId": "fc941dde-473f-453a-91df-bb6f9afb4b3c"
      },
      "execution_count": 48,
      "outputs": [
        {
          "output_type": "execute_result",
          "data": {
            "text/plain": [
              "RandomForestClassifier()"
            ]
          },
          "metadata": {},
          "execution_count": 48
        }
      ]
    },
    {
      "cell_type": "code",
      "source": [
        "# 計算模型準確度(Accuracy)\n",
        "clf.score(X_test, y_test)"
      ],
      "metadata": {
        "colab": {
          "base_uri": "https://localhost:8080/"
        },
        "id": "isyeEfAp0FZS",
        "outputId": "0b0eec68-2607-473d-dbcf-26b2f045644f"
      },
      "execution_count": 49,
      "outputs": [
        {
          "output_type": "execute_result",
          "data": {
            "text/plain": [
              "1.0"
            ]
          },
          "metadata": {},
          "execution_count": 49
        }
      ]
    },
    {
      "cell_type": "code",
      "source": [
        "#4. 使用模型\n",
        "clf.predict(X_test)"
      ],
      "metadata": {
        "colab": {
          "base_uri": "https://localhost:8080/"
        },
        "id": "HekyvqTY0Ijf",
        "outputId": "8a699868-5499-41b4-cc05-fdf47bf145e3"
      },
      "execution_count": 50,
      "outputs": [
        {
          "output_type": "execute_result",
          "data": {
            "text/plain": [
              "array([2, 1, 0, 2, 0, 1, 1, 2, 1, 1, 2, 2, 0, 1, 0, 0, 2, 1, 2, 0, 2, 0,\n",
              "       1, 1, 0, 1, 1, 0, 1, 0])"
            ]
          },
          "metadata": {},
          "execution_count": 50
        }
      ]
    },
    {
      "cell_type": "markdown",
      "source": [
        "### 太多資訊over fitting"
      ],
      "metadata": {
        "id": "gVMlrj1K1mlN"
      }
    }
  ]
}