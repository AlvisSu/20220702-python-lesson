{
  "nbformat": 4,
  "nbformat_minor": 0,
  "metadata": {
    "colab": {
      "name": "20220716.ipynb",
      "provenance": [],
      "toc_visible": true,
      "authorship_tag": "ABX9TyM4Axlw4NC/3v1j32+g6sl9",
      "include_colab_link": true
    },
    "kernelspec": {
      "name": "python3",
      "display_name": "Python 3"
    },
    "language_info": {
      "name": "python"
    }
  },
  "cells": [
    {
      "cell_type": "markdown",
      "metadata": {
        "id": "view-in-github",
        "colab_type": "text"
      },
      "source": [
        "<a href=\"https://colab.research.google.com/github/AlvisSu/20220702-python-lesson/blob/main/20220716.ipynb\" target=\"_parent\"><img src=\"https://colab.research.google.com/assets/colab-badge.svg\" alt=\"Open In Colab\"/></a>"
      ]
    },
    {
      "cell_type": "markdown",
      "source": [
        "# 20220709-作業參考"
      ],
      "metadata": {
        "id": "FBgcTceBi-YV"
      }
    },
    {
      "cell_type": "code",
      "execution_count": null,
      "metadata": {
        "id": "IhmlsyQAg3Oo"
      },
      "outputs": [],
      "source": [
        "!pip install gradio"
      ]
    },
    {
      "cell_type": "code",
      "source": [
        "import requests"
      ],
      "metadata": {
        "id": "m5_mBiJljH3o"
      },
      "execution_count": 2,
      "outputs": []
    },
    {
      "cell_type": "code",
      "source": [
        "def lookup(word):\n",
        "  url=\"https://www.moedict.tw/a/\"\n",
        "  data=requests.get(url+word+\".json\").json()\n",
        "  return data['English']"
      ],
      "metadata": {
        "id": "M01QsidGjMtQ"
      },
      "execution_count": 3,
      "outputs": []
    },
    {
      "cell_type": "code",
      "source": [
        "lookup(\"教室\")"
      ],
      "metadata": {
        "colab": {
          "base_uri": "https://localhost:8080/",
          "height": 35
        },
        "id": "IYr-lR2Ij47v",
        "outputId": "be3b4ae5-a45a-40a4-95b8-ba49541be46f"
      },
      "execution_count": 4,
      "outputs": [
        {
          "output_type": "execute_result",
          "data": {
            "text/plain": [
              "'classroom'"
            ],
            "application/vnd.google.colaboratory.intrinsic+json": {
              "type": "string"
            }
          },
          "metadata": {},
          "execution_count": 4
        }
      ]
    },
    {
      "cell_type": "code",
      "source": [
        "import gradio"
      ],
      "metadata": {
        "id": "zhGnNI07j-UT"
      },
      "execution_count": 5,
      "outputs": []
    },
    {
      "cell_type": "code",
      "source": [
        "gradio.Interface(lookup, \"text\", \"text\", title=\"漢英字典\").launch(share=True)"
      ],
      "metadata": {
        "colab": {
          "base_uri": "https://localhost:8080/",
          "height": 663
        },
        "id": "XFT7qCY_kCRi",
        "outputId": "37564881-fe78-4987-f35d-9aee445ca794"
      },
      "execution_count": 8,
      "outputs": [
        {
          "output_type": "stream",
          "name": "stdout",
          "text": [
            "Colab notebook detected. To show errors in colab notebook, set `debug=True` in `launch()`\n",
            "Running on public URL: https://38760.gradio.app\n",
            "\n",
            "This share link expires in 72 hours. For free permanent hosting, check out Spaces (https://huggingface.co/spaces)\n"
          ]
        },
        {
          "output_type": "display_data",
          "data": {
            "text/plain": [
              "<IPython.core.display.HTML object>"
            ],
            "text/html": [
              "<div><iframe src=\"https://38760.gradio.app\" width=\"900\" height=\"500\" allow=\"autoplay; camera; microphone;\" frameborder=\"0\" allowfullscreen></iframe></div>"
            ]
          },
          "metadata": {}
        },
        {
          "output_type": "execute_result",
          "data": {
            "text/plain": [
              "(<gradio.routes.App at 0x7f985c5c1fd0>,\n",
              " 'http://127.0.0.1:7860/',\n",
              " 'https://38760.gradio.app')"
            ]
          },
          "metadata": {},
          "execution_count": 8
        }
      ]
    },
    {
      "cell_type": "markdown",
      "source": [
        "# 註冊ZeroJudge\n",
        "\n",
        "* https://zerojudge.tw/Problems\n",
        "\n",
        "解解看底下題目:\n",
        "\n",
        "* https://zerojudge.tw/ShowProblem?problemid=a002\n",
        "* https://zerojudge.tw/ShowProblem?problemid=a003"
      ],
      "metadata": {
        "id": "8_IjkN7fnZDb"
      }
    },
    {
      "cell_type": "markdown",
      "source": [
        "# 資料分析簡介\n",
        "* Numpy \n",
        " * Numerical Python\n",
        " * 科學運算基礎套件\n",
        "* MatPlotLib\n",
        " * Matrix Plotting Library\n",
        " * 繪圖基礎套件\n",
        "* Pandas\n",
        " * Panel Data\n",
        " * 資料分析基礎套件"
      ],
      "metadata": {
        "id": "mKUZKWICoB97"
      }
    },
    {
      "cell_type": "markdown",
      "source": [
        "```python\n",
        "import numpy as np\n",
        "import matplotlib.pyplot as plt\n",
        "import pands as pd\n",
        "```"
      ],
      "metadata": {
        "id": "8N8dC2EEqkPl"
      }
    },
    {
      "cell_type": "markdown",
      "source": [
        "## Numpy\n",
        "* new data type\n",
        " * ndarray => Multi-Dimentional Array\n",
        "* new functions to process data\n",
        " * ufunc => Universal Functions"
      ],
      "metadata": {
        "id": "5GrsE_rpp9BR"
      }
    },
    {
      "cell_type": "code",
      "source": [
        ""
      ],
      "metadata": {
        "id": "RH4UsZbvo2Au"
      },
      "execution_count": null,
      "outputs": []
    }
  ]
}