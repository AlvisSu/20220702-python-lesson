{
  "nbformat": 4,
  "nbformat_minor": 0,
  "metadata": {
    "colab": {
      "name": "20220702.ipynb",
      "provenance": [],
      "authorship_tag": "ABX9TyOii1wDWFrlWjH0rFPDRNMp",
      "include_colab_link": true
    },
    "kernelspec": {
      "name": "python3",
      "display_name": "Python 3"
    },
    "language_info": {
      "name": "python"
    }
  },
  "cells": [
    {
      "cell_type": "markdown",
      "metadata": {
        "id": "view-in-github",
        "colab_type": "text"
      },
      "source": [
        "<a href=\"https://colab.research.google.com/github/AlvisSu/20220702-python-lesson/blob/main/20220702.ipynb\" target=\"_parent\"><img src=\"https://colab.research.google.com/assets/colab-badge.svg\" alt=\"Open In Colab\"/></a>"
      ]
    },
    {
      "cell_type": "markdown",
      "source": [
        "# 20220702-Python人工智慧應用班\n",
        "* 老師筆記 \n",
        "https://colab.research.google.com/drive/1RDtrT2Yv1vfC6gMRNBlTlrUa-Zt-OHOJ?usp=sharing#scrollTo=m0whGvzlV4rk\n",
        "\n"
      ],
      "metadata": {
        "id": "jLw9KyVr3vFk"
      }
    },
    {
      "cell_type": "code",
      "execution_count": null,
      "metadata": {
        "colab": {
          "base_uri": "https://localhost:8080/"
        },
        "id": "AUYEouO03FBK",
        "outputId": "496aa192-2070-4b39-968c-05c49de438fb"
      },
      "outputs": [
        {
          "output_type": "stream",
          "name": "stdout",
          "text": [
            "Hello World!\n"
          ]
        }
      ],
      "source": [
        "print(\"Hello World!\")"
      ]
    },
    {
      "cell_type": "markdown",
      "source": [
        "# 畫金字塔"
      ],
      "metadata": {
        "id": "H_kf5M-E6hG2"
      }
    },
    {
      "cell_type": "code",
      "source": [
        "\"*\"*10"
      ],
      "metadata": {
        "colab": {
          "base_uri": "https://localhost:8080/",
          "height": 35
        },
        "id": "rNBcK7mV6n9T",
        "outputId": "c0aa13a9-b989-4e0b-fd22-997bbb9d7af4"
      },
      "execution_count": null,
      "outputs": [
        {
          "output_type": "execute_result",
          "data": {
            "text/plain": [
              "'**********'"
            ],
            "application/vnd.google.colaboratory.intrinsic+json": {
              "type": "string"
            }
          },
          "metadata": {},
          "execution_count": 2
        }
      ]
    },
    {
      "cell_type": "code",
      "source": [
        "\"*\"*10+\" \"*10+\"*\"*10"
      ],
      "metadata": {
        "colab": {
          "base_uri": "https://localhost:8080/",
          "height": 35
        },
        "id": "Vz6LLQNH68EF",
        "outputId": "357250dd-4118-4a33-cb51-be5f8f1476a9"
      },
      "execution_count": null,
      "outputs": [
        {
          "output_type": "execute_result",
          "data": {
            "text/plain": [
              "'**********          **********'"
            ],
            "application/vnd.google.colaboratory.intrinsic+json": {
              "type": "string"
            }
          },
          "metadata": {},
          "execution_count": 4
        }
      ]
    },
    {
      "cell_type": "code",
      "source": [
        "for i in range(5):\n",
        "  print(i)"
      ],
      "metadata": {
        "colab": {
          "base_uri": "https://localhost:8080/"
        },
        "id": "-XQUtIli7IcK",
        "outputId": "63d6b4a5-e15b-4595-edc6-9b46ed59dfea"
      },
      "execution_count": null,
      "outputs": [
        {
          "output_type": "stream",
          "name": "stdout",
          "text": [
            "0\n",
            "1\n",
            "2\n",
            "3\n",
            "4\n"
          ]
        }
      ]
    },
    {
      "cell_type": "code",
      "source": [
        "for i in range(5):\n",
        "  print(2*i+1)"
      ],
      "metadata": {
        "colab": {
          "base_uri": "https://localhost:8080/"
        },
        "id": "FPbecbd77ZBx",
        "outputId": "31faf515-40c0-4cfc-f1ab-b5c025d6cfa1"
      },
      "execution_count": null,
      "outputs": [
        {
          "output_type": "stream",
          "name": "stdout",
          "text": [
            "1\n",
            "3\n",
            "5\n",
            "7\n",
            "9\n"
          ]
        }
      ]
    },
    {
      "cell_type": "code",
      "source": [
        "for i in range(5):\n",
        "  print((2*i+1)*\"*\")"
      ],
      "metadata": {
        "colab": {
          "base_uri": "https://localhost:8080/"
        },
        "id": "oxhppwxx7iA0",
        "outputId": "1be8e06f-ca25-477f-e867-92ff295b5a20"
      },
      "execution_count": null,
      "outputs": [
        {
          "output_type": "stream",
          "name": "stdout",
          "text": [
            "*\n",
            "***\n",
            "*****\n",
            "*******\n",
            "*********\n"
          ]
        }
      ]
    },
    {
      "cell_type": "code",
      "source": [
        "for i in range(5):\n",
        "  print((5-i)*\" \"+(2*i+1)*\"*\")"
      ],
      "metadata": {
        "colab": {
          "base_uri": "https://localhost:8080/"
        },
        "id": "8cc8ZKwI8QqM",
        "outputId": "1cc6fe8d-3417-409a-80da-ac490e5c0112"
      },
      "execution_count": null,
      "outputs": [
        {
          "output_type": "stream",
          "name": "stdout",
          "text": [
            "     *\n",
            "    ***\n",
            "   *****\n",
            "  *******\n",
            " *********\n"
          ]
        }
      ]
    },
    {
      "cell_type": "code",
      "source": [
        "def pyramid(n):\n",
        " for i in range(n):\n",
        "  print((n-i)*\" \"+(2*i+1)*\"*\")"
      ],
      "metadata": {
        "id": "Yw1S_Sht_gJu"
      },
      "execution_count": null,
      "outputs": []
    },
    {
      "cell_type": "code",
      "source": [
        "pyramid(10)"
      ],
      "metadata": {
        "colab": {
          "base_uri": "https://localhost:8080/"
        },
        "id": "Wwm2iIMw_zdR",
        "outputId": "e98a2aea-6fd4-4ca1-8fdf-f1881b79f3cc"
      },
      "execution_count": null,
      "outputs": [
        {
          "output_type": "stream",
          "name": "stdout",
          "text": [
            "          *\n",
            "         ***\n",
            "        *****\n",
            "       *******\n",
            "      *********\n",
            "     ***********\n",
            "    *************\n",
            "   ***************\n",
            "  *****************\n",
            " *******************\n"
          ]
        }
      ]
    },
    {
      "cell_type": "code",
      "source": [
        "for i in range(5):\n",
        "  print((5-i)*\" \"+10*\"*\")"
      ],
      "metadata": {
        "colab": {
          "base_uri": "https://localhost:8080/"
        },
        "id": "VlLgvJhxAwsL",
        "outputId": "5e345338-6b5b-4d12-d2b0-9a5b62477747"
      },
      "execution_count": null,
      "outputs": [
        {
          "output_type": "stream",
          "name": "stdout",
          "text": [
            "     **********\n",
            "    **********\n",
            "   **********\n",
            "  **********\n",
            " **********\n"
          ]
        }
      ]
    },
    {
      "cell_type": "markdown",
      "source": [
        "# 變數\n",
        "* 變數名稱最好以英文字母或底線做開頭 (數字不能做開頭)\n",
        "  * _variable, variable, variable_\n",
        "* 除開頭字元外，其他字元使用數字、底線、或英文字母  \n",
        "  * _var123, var_123\n",
        "* 變數會區分大小寫\n",
        "* 避開關鍵字 (keywords)\n",
        "* 避開內建的物件 (built-in objects)"
      ],
      "metadata": {
        "id": "gDpoNc7r6Q90"
      }
    },
    {
      "cell_type": "code",
      "source": [
        "x=1"
      ],
      "metadata": {
        "id": "m9mL9rdIU0Pv"
      },
      "execution_count": null,
      "outputs": []
    },
    {
      "cell_type": "code",
      "source": [
        "id?"
      ],
      "metadata": {
        "id": "nDxKYkDZAN2l"
      },
      "execution_count": 2,
      "outputs": []
    },
    {
      "cell_type": "code",
      "source": [
        "# 印出x的記憶體位置\n",
        "id(x)"
      ],
      "metadata": {
        "colab": {
          "base_uri": "https://localhost:8080/"
        },
        "id": "whjmrsTIU33h",
        "outputId": "de0c1fa2-4b90-4776-a101-e73922924367"
      },
      "execution_count": null,
      "outputs": [
        {
          "output_type": "execute_result",
          "data": {
            "text/plain": [
              "11256064"
            ]
          },
          "metadata": {},
          "execution_count": 60
        }
      ]
    },
    {
      "cell_type": "code",
      "source": [
        "# 將x的記憶位址轉換成16進位表示法\n",
        "hex(id(x))"
      ],
      "metadata": {
        "colab": {
          "base_uri": "https://localhost:8080/",
          "height": 35
        },
        "id": "A0tie3liU7Nc",
        "outputId": "bd65819b-74ee-425e-8ad3-ebc360e434a6"
      },
      "execution_count": null,
      "outputs": [
        {
          "output_type": "execute_result",
          "data": {
            "text/plain": [
              "'0xabc100'"
            ],
            "application/vnd.google.colaboratory.intrinsic+json": {
              "type": "string"
            }
          },
          "metadata": {},
          "execution_count": 61
        }
      ]
    },
    {
      "cell_type": "markdown",
      "source": [
        "# 資料型態"
      ],
      "metadata": {
        "id": "jt3PHDCnUhm7"
      }
    },
    {
      "cell_type": "markdown",
      "source": [
        "* int 整數\n",
        "* float 浮點數\n",
        "* bool 布林數 ==> True, False\n",
        "* str 字串 ==> 用引號標註起來的文字訊息\n",
        "* = 指派\n",
        "* == 比較\n",
        "* 字串要加引號，沒加會判斷為變數"
      ],
      "metadata": {
        "id": "gr1CzEYTUqoY"
      }
    },
    {
      "cell_type": "code",
      "source": [
        "x=1"
      ],
      "metadata": {
        "id": "gPABL71LWjwj"
      },
      "execution_count": null,
      "outputs": []
    },
    {
      "cell_type": "code",
      "source": [
        "type(x)"
      ],
      "metadata": {
        "colab": {
          "base_uri": "https://localhost:8080/"
        },
        "id": "JnK8k36eWnga",
        "outputId": "abec1ae3-b839-40e5-b5c9-8698528eaba3"
      },
      "execution_count": null,
      "outputs": [
        {
          "output_type": "execute_result",
          "data": {
            "text/plain": [
              "int"
            ]
          },
          "metadata": {},
          "execution_count": 54
        }
      ]
    },
    {
      "cell_type": "code",
      "source": [
        "print(type(x))"
      ],
      "metadata": {
        "colab": {
          "base_uri": "https://localhost:8080/"
        },
        "id": "CC4b2eY-WyBL",
        "outputId": "eb164e4d-f798-4f21-c441-6a85c7b4dc7b"
      },
      "execution_count": null,
      "outputs": [
        {
          "output_type": "stream",
          "name": "stdout",
          "text": [
            "<class 'int'>\n"
          ]
        }
      ]
    },
    {
      "cell_type": "code",
      "source": [
        "y=1.0"
      ],
      "metadata": {
        "id": "0nh6isU0W3KV"
      },
      "execution_count": null,
      "outputs": []
    },
    {
      "cell_type": "code",
      "source": [
        "type(y)"
      ],
      "metadata": {
        "colab": {
          "base_uri": "https://localhost:8080/"
        },
        "id": "7z9EJUtgW42L",
        "outputId": "73b838b2-e45a-4f31-850a-4c2caf0219f9"
      },
      "execution_count": null,
      "outputs": [
        {
          "output_type": "execute_result",
          "data": {
            "text/plain": [
              "float"
            ]
          },
          "metadata": {},
          "execution_count": 58
        }
      ]
    },
    {
      "cell_type": "code",
      "source": [
        "3>2"
      ],
      "metadata": {
        "colab": {
          "base_uri": "https://localhost:8080/"
        },
        "id": "tM_t1D8BXGcY",
        "outputId": "5957290a-5e7e-4e9b-a08a-bf1d50995194"
      },
      "execution_count": null,
      "outputs": [
        {
          "output_type": "execute_result",
          "data": {
            "text/plain": [
              "True"
            ]
          },
          "metadata": {},
          "execution_count": 62
        }
      ]
    },
    {
      "cell_type": "code",
      "source": [
        "z=3>2"
      ],
      "metadata": {
        "id": "-HEnM9zJX0AB"
      },
      "execution_count": null,
      "outputs": []
    },
    {
      "cell_type": "code",
      "source": [
        "type(z)"
      ],
      "metadata": {
        "colab": {
          "base_uri": "https://localhost:8080/"
        },
        "id": "967Oqv_uX2vn",
        "outputId": "711eeb06-711a-4a2e-8ad5-c940e798752f"
      },
      "execution_count": null,
      "outputs": [
        {
          "output_type": "execute_result",
          "data": {
            "text/plain": [
              "bool"
            ]
          },
          "metadata": {},
          "execution_count": 64
        }
      ]
    },
    {
      "cell_type": "code",
      "source": [
        "u=3==2"
      ],
      "metadata": {
        "id": "f_-SeEEcYR-X"
      },
      "execution_count": 3,
      "outputs": []
    },
    {
      "cell_type": "code",
      "source": [
        "u"
      ],
      "metadata": {
        "colab": {
          "base_uri": "https://localhost:8080/"
        },
        "id": "Qejswfw7Yogc",
        "outputId": "990d8fb1-c2d8-4a02-f5bd-3b470e23a532"
      },
      "execution_count": 4,
      "outputs": [
        {
          "output_type": "execute_result",
          "data": {
            "text/plain": [
              "False"
            ]
          },
          "metadata": {},
          "execution_count": 4
        }
      ]
    },
    {
      "cell_type": "code",
      "source": [
        "v=\"dog\""
      ],
      "metadata": {
        "id": "eq7c7YSCY4lG"
      },
      "execution_count": null,
      "outputs": []
    },
    {
      "cell_type": "code",
      "source": [
        "type(v)"
      ],
      "metadata": {
        "colab": {
          "base_uri": "https://localhost:8080/"
        },
        "id": "ibefLwa7Y7oC",
        "outputId": "068ab04b-8213-448d-f3ea-c5505eb84369"
      },
      "execution_count": null,
      "outputs": [
        {
          "output_type": "execute_result",
          "data": {
            "text/plain": [
              "str"
            ]
          },
          "metadata": {},
          "execution_count": 70
        }
      ]
    },
    {
      "cell_type": "markdown",
      "source": [
        "# 使用Line Notify傳送訊息給自己"
      ],
      "metadata": {
        "id": "WN8jq6HscMrM"
      }
    },
    {
      "cell_type": "markdown",
      "source": [
        "* [取得權杖](https://notify-bot.line.me/my/)\n",
        "* [Line Sticker List](https://github.com/victorgau/khpy_linenotify_intro/raw/main/misc/sticker_list.pdf)"
      ],
      "metadata": {
        "id": "yEH238gPe4RZ"
      }
    },
    {
      "cell_type": "code",
      "source": [
        "!curl -o linenotify.py https://raw.githubusercontent.com/victorgau/khpy_linenotify_intro/main/py/linenotify.py"
      ],
      "metadata": {
        "colab": {
          "base_uri": "https://localhost:8080/"
        },
        "id": "0WThciDUcTTD",
        "outputId": "ad0fd8d5-f422-4d1b-cfcf-ae2e7ce618d2"
      },
      "execution_count": null,
      "outputs": [
        {
          "output_type": "stream",
          "name": "stdout",
          "text": [
            "  % Total    % Received % Xferd  Average Speed   Time    Time     Time  Current\n",
            "                                 Dload  Upload   Total   Spent    Left  Speed\n",
            "\r  0     0    0     0    0     0      0      0 --:--:-- --:--:-- --:--:--     0\r100   818  100   818    0     0   9975      0 --:--:-- --:--:-- --:--:--  9975\n"
          ]
        }
      ]
    },
    {
      "cell_type": "code",
      "source": [
        "token=\"4QwGkKIQmkWAmy2LNaZemoy3Rn0bz5eC7pBHDoz6JNq\""
      ],
      "metadata": {
        "id": "-Z1HsaGBftSM"
      },
      "execution_count": null,
      "outputs": []
    },
    {
      "cell_type": "code",
      "source": [
        "from linenotify import Notify"
      ],
      "metadata": {
        "id": "pj1ceWrfi5Lg"
      },
      "execution_count": null,
      "outputs": []
    },
    {
      "cell_type": "code",
      "source": [
        "Notify(token, \"你好帥！\")"
      ],
      "metadata": {
        "colab": {
          "base_uri": "https://localhost:8080/"
        },
        "id": "vr7TD2CUjEtm",
        "outputId": "0d4c9b97-d267-4f4d-c5ff-0a88cbb32243"
      },
      "execution_count": null,
      "outputs": [
        {
          "output_type": "execute_result",
          "data": {
            "text/plain": [
              "<Response [200]>"
            ]
          },
          "metadata": {},
          "execution_count": 81
        }
      ]
    },
    {
      "cell_type": "code",
      "source": [
        "Notify(token, \"嘿嘿\", 2, 520, img=\"pic.jpg\")"
      ],
      "metadata": {
        "colab": {
          "base_uri": "https://localhost:8080/"
        },
        "id": "yF1Y9vPzkE6z",
        "outputId": "5d758d54-c730-43bf-a8f2-c374fb7f41d7"
      },
      "execution_count": null,
      "outputs": [
        {
          "output_type": "execute_result",
          "data": {
            "text/plain": [
              "<Response [200]>"
            ]
          },
          "metadata": {},
          "execution_count": 82
        }
      ]
    },
    {
      "cell_type": "markdown",
      "source": [
        "# 容器型別 (Container Types)\n",
        "* list(串列)==>[] \n",
        "* tuple(元組)==>() \n",
        "* dict(字典)==>{}\n",
        "* set(集合)==>{}"
      ],
      "metadata": {
        "id": "k3_TLahXwaL3"
      }
    },
    {
      "cell_type": "markdown",
      "source": [
        "## Markdown equation 的範例\n",
        "\n",
        "愛因斯坦說：$ E = mc^2 $\n",
        "\n",
        "$$ E = mc^2 $$"
      ],
      "metadata": {
        "id": "pG1bJ9KMBT3b"
      }
    },
    {
      "cell_type": "markdown",
      "source": [
        "## list練習"
      ],
      "metadata": {
        "id": "c_OSlaNVx3v1"
      }
    },
    {
      "cell_type": "code",
      "source": [
        "x = list(\"abcde\")"
      ],
      "metadata": {
        "id": "TcHKhFZVxW1W"
      },
      "execution_count": null,
      "outputs": []
    },
    {
      "cell_type": "code",
      "source": [
        "x"
      ],
      "metadata": {
        "colab": {
          "base_uri": "https://localhost:8080/"
        },
        "id": "UfjBn7aKxs2p",
        "outputId": "6495cb64-3190-403f-ce23-d3cbf6dc9b6f"
      },
      "execution_count": null,
      "outputs": [
        {
          "output_type": "execute_result",
          "data": {
            "text/plain": [
              "['a', 'b', 'c', 'd', 'e']"
            ]
          },
          "metadata": {},
          "execution_count": 2
        }
      ]
    },
    {
      "cell_type": "code",
      "source": [
        "x[2]"
      ],
      "metadata": {
        "colab": {
          "base_uri": "https://localhost:8080/",
          "height": 35
        },
        "id": "Ef6K34Qcxv3m",
        "outputId": "56e89ed9-dc57-48f9-bf2b-d4fef96e8ee8"
      },
      "execution_count": null,
      "outputs": [
        {
          "output_type": "execute_result",
          "data": {
            "text/plain": [
              "'c'"
            ],
            "application/vnd.google.colaboratory.intrinsic+json": {
              "type": "string"
            }
          },
          "metadata": {},
          "execution_count": 3
        }
      ]
    },
    {
      "cell_type": "code",
      "source": [
        "x[-2]"
      ],
      "metadata": {
        "colab": {
          "base_uri": "https://localhost:8080/",
          "height": 35
        },
        "id": "nMQwD2ujyVeC",
        "outputId": "c5282d5d-e29a-4c68-8ae6-5cd50a7c2552"
      },
      "execution_count": null,
      "outputs": [
        {
          "output_type": "execute_result",
          "data": {
            "text/plain": [
              "'d'"
            ],
            "application/vnd.google.colaboratory.intrinsic+json": {
              "type": "string"
            }
          },
          "metadata": {},
          "execution_count": 4
        }
      ]
    },
    {
      "cell_type": "code",
      "source": [
        "x[2:4]"
      ],
      "metadata": {
        "colab": {
          "base_uri": "https://localhost:8080/"
        },
        "id": "3v4_K4-xyX7H",
        "outputId": "02991837-5688-42e0-d090-5c3fa75f584b"
      },
      "execution_count": null,
      "outputs": [
        {
          "output_type": "execute_result",
          "data": {
            "text/plain": [
              "['c', 'd']"
            ]
          },
          "metadata": {},
          "execution_count": 5
        }
      ]
    },
    {
      "cell_type": "markdown",
      "source": [
        "## 索引的應用"
      ],
      "metadata": {
        "id": "PKukEGN8Bg6I"
      }
    },
    {
      "cell_type": "code",
      "source": [
        "url = \"https://raw.githubusercontent.com/victorgau/khpy_linenotify_intro/main/py/linenotify.py\""
      ],
      "metadata": {
        "id": "q789XYEHy4F0"
      },
      "execution_count": 6,
      "outputs": []
    },
    {
      "cell_type": "code",
      "source": [
        "url[-13:]"
      ],
      "metadata": {
        "colab": {
          "base_uri": "https://localhost:8080/",
          "height": 35
        },
        "id": "Bcpm9UoDzERc",
        "outputId": "d1020fc0-1ede-494d-a366-659295d0e8d8"
      },
      "execution_count": null,
      "outputs": [
        {
          "output_type": "execute_result",
          "data": {
            "text/plain": [
              "'linenotify.py'"
            ],
            "application/vnd.google.colaboratory.intrinsic+json": {
              "type": "string"
            }
          },
          "metadata": {},
          "execution_count": 7
        }
      ]
    },
    {
      "cell_type": "code",
      "source": [
        "type(url)"
      ],
      "metadata": {
        "colab": {
          "base_uri": "https://localhost:8080/"
        },
        "id": "ZVC746dGBqMm",
        "outputId": "2b58f5b0-7822-40b5-a5c6-1c5467d8bf0b"
      },
      "execution_count": 7,
      "outputs": [
        {
          "output_type": "execute_result",
          "data": {
            "text/plain": [
              "str"
            ]
          },
          "metadata": {},
          "execution_count": 7
        }
      ]
    },
    {
      "cell_type": "code",
      "source": [
        "url.split(\"/\")[-1]"
      ],
      "metadata": {
        "colab": {
          "base_uri": "https://localhost:8080/",
          "height": 35
        },
        "id": "w40ny12EzQod",
        "outputId": "6100dfbf-ef98-4441-a50c-6d3784372300"
      },
      "execution_count": null,
      "outputs": [
        {
          "output_type": "execute_result",
          "data": {
            "text/plain": [
              "'linenotify.py'"
            ],
            "application/vnd.google.colaboratory.intrinsic+json": {
              "type": "string"
            }
          },
          "metadata": {},
          "execution_count": 8
        }
      ]
    },
    {
      "cell_type": "markdown",
      "source": [
        "## tuple練習"
      ],
      "metadata": {
        "id": "fpmZwqz30sZr"
      }
    },
    {
      "cell_type": "code",
      "source": [
        "y = tuple(\"abcde\")"
      ],
      "metadata": {
        "id": "8YiilM2jzjse"
      },
      "execution_count": null,
      "outputs": []
    },
    {
      "cell_type": "code",
      "source": [
        "y"
      ],
      "metadata": {
        "colab": {
          "base_uri": "https://localhost:8080/"
        },
        "id": "-n4balF5zyU2",
        "outputId": "be86c483-2849-407b-9962-b3e181c5847c"
      },
      "execution_count": null,
      "outputs": [
        {
          "output_type": "execute_result",
          "data": {
            "text/plain": [
              "('a', 'b', 'c', 'd', 'e')"
            ]
          },
          "metadata": {},
          "execution_count": 93
        }
      ]
    },
    {
      "cell_type": "markdown",
      "source": [
        "## list v.s. tuple"
      ],
      "metadata": {
        "id": "vjAwfRJAz0eA"
      }
    },
    {
      "cell_type": "code",
      "source": [
        "x[2]=\"dog\""
      ],
      "metadata": {
        "id": "4Zour2pIz64-"
      },
      "execution_count": null,
      "outputs": []
    },
    {
      "cell_type": "code",
      "source": [
        "x"
      ],
      "metadata": {
        "colab": {
          "base_uri": "https://localhost:8080/"
        },
        "id": "71wBPLjj0YKk",
        "outputId": "194d53a0-bb2f-4ca6-dc94-988bbd8d6fdc"
      },
      "execution_count": null,
      "outputs": [
        {
          "output_type": "execute_result",
          "data": {
            "text/plain": [
              "['a', 'b', 'dog', 'd', 'e']"
            ]
          },
          "metadata": {},
          "execution_count": 99
        }
      ]
    },
    {
      "cell_type": "code",
      "source": [
        "# tuple is immutable\n",
        "y[2]=\"dog\""
      ],
      "metadata": {
        "colab": {
          "base_uri": "https://localhost:8080/",
          "height": 167
        },
        "id": "R62UCRZ00bal",
        "outputId": "4c268b33-0778-4c54-c5ab-fee36470de2c"
      },
      "execution_count": null,
      "outputs": [
        {
          "output_type": "error",
          "ename": "TypeError",
          "evalue": "ignored",
          "traceback": [
            "\u001b[0;31m---------------------------------------------------------------------------\u001b[0m",
            "\u001b[0;31mTypeError\u001b[0m                                 Traceback (most recent call last)",
            "\u001b[0;32m<ipython-input-100-c71b56ae4714>\u001b[0m in \u001b[0;36m<module>\u001b[0;34m()\u001b[0m\n\u001b[0;32m----> 1\u001b[0;31m \u001b[0my\u001b[0m\u001b[0;34m[\u001b[0m\u001b[0;36m2\u001b[0m\u001b[0;34m]\u001b[0m\u001b[0;34m=\u001b[0m\u001b[0;34m\"dog\"\u001b[0m\u001b[0;34m\u001b[0m\u001b[0;34m\u001b[0m\u001b[0m\n\u001b[0m",
            "\u001b[0;31mTypeError\u001b[0m: 'tuple' object does not support item assignment"
          ]
        }
      ]
    },
    {
      "cell_type": "markdown",
      "source": [
        "## dict練習"
      ],
      "metadata": {
        "id": "_ka5kKNz00P1"
      }
    },
    {
      "cell_type": "code",
      "source": [
        "z={}"
      ],
      "metadata": {
        "id": "pW4Zf8jI03ax"
      },
      "execution_count": null,
      "outputs": []
    },
    {
      "cell_type": "code",
      "source": [
        "type(z)"
      ],
      "metadata": {
        "colab": {
          "base_uri": "https://localhost:8080/"
        },
        "id": "QlchQlbT07Q8",
        "outputId": "53d1c5d3-c634-4871-c27c-4b1fe40bceec"
      },
      "execution_count": null,
      "outputs": [
        {
          "output_type": "execute_result",
          "data": {
            "text/plain": [
              "dict"
            ]
          },
          "metadata": {},
          "execution_count": 102
        }
      ]
    },
    {
      "cell_type": "code",
      "source": [
        "z[\"cat\"]=\"貓咪\""
      ],
      "metadata": {
        "id": "BYU6A65X1C_F"
      },
      "execution_count": null,
      "outputs": []
    },
    {
      "cell_type": "code",
      "source": [
        "z[\"dog\"]=\"狗狗\""
      ],
      "metadata": {
        "id": "zfzNe-uL1KFO"
      },
      "execution_count": null,
      "outputs": []
    },
    {
      "cell_type": "code",
      "source": [
        "z"
      ],
      "metadata": {
        "colab": {
          "base_uri": "https://localhost:8080/"
        },
        "id": "-PGpqYji1Nr4",
        "outputId": "9b03dd17-26da-421f-f9bb-51e0ffa5d8bb"
      },
      "execution_count": null,
      "outputs": [
        {
          "output_type": "execute_result",
          "data": {
            "text/plain": [
              "{'cat': '貓咪', 'dog': '狗狗'}"
            ]
          },
          "metadata": {},
          "execution_count": 105
        }
      ]
    },
    {
      "cell_type": "markdown",
      "source": [
        "## set練習"
      ],
      "metadata": {
        "id": "ZFV-bdOf3sfM"
      }
    },
    {
      "cell_type": "code",
      "source": [
        "u=set()\n",
        "set1=set(\"apple\")\n",
        "print(set1)"
      ],
      "metadata": {
        "id": "wwg5kEhA1z6-",
        "colab": {
          "base_uri": "https://localhost:8080/"
        },
        "outputId": "2625e05b-85b8-4ff4-f42c-02d5ce11433c"
      },
      "execution_count": null,
      "outputs": [
        {
          "output_type": "stream",
          "name": "stdout",
          "text": [
            "{'l', 'p', 'a', 'e'}\n"
          ]
        }
      ]
    },
    {
      "cell_type": "code",
      "source": [
        "k=list(\"1594625856463251\")\n",
        "print(k)\n",
        "print(set(k))"
      ],
      "metadata": {
        "colab": {
          "base_uri": "https://localhost:8080/"
        },
        "id": "_Obm0QAaB9QJ",
        "outputId": "fb178ac4-4ebc-47c1-958c-c9fba454a873"
      },
      "execution_count": null,
      "outputs": [
        {
          "output_type": "stream",
          "name": "stdout",
          "text": [
            "['1', '5', '9', '4', '6', '2', '5', '8', '5', '6', '4', '6', '3', '2', '5', '1']\n",
            "{'2', '9', '6', '1', '5', '3', '4', '8'}\n"
          ]
        }
      ]
    },
    {
      "cell_type": "code",
      "source": [
        "type(u)"
      ],
      "metadata": {
        "id": "xbIpJqnT30NQ",
        "outputId": "24c6b88a-9b4a-4b6d-adb8-60e96ed52712",
        "colab": {
          "base_uri": "https://localhost:8080/"
        }
      },
      "execution_count": null,
      "outputs": [
        {
          "output_type": "execute_result",
          "data": {
            "text/plain": [
              "set"
            ]
          },
          "metadata": {},
          "execution_count": 111
        }
      ]
    }
  ]
}