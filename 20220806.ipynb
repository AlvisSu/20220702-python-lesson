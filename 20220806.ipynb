{
  "nbformat": 4,
  "nbformat_minor": 0,
  "metadata": {
    "colab": {
      "name": "20220806.ipynb",
      "provenance": [],
      "authorship_tag": "ABX9TyNJWH318bHe6G3BBJx3b5Lt",
      "include_colab_link": true
    },
    "kernelspec": {
      "name": "python3",
      "display_name": "Python 3"
    },
    "language_info": {
      "name": "python"
    }
  },
  "cells": [
    {
      "cell_type": "markdown",
      "metadata": {
        "id": "view-in-github",
        "colab_type": "text"
      },
      "source": [
        "<a href=\"https://colab.research.google.com/github/AlvisSu/20220702-python-lesson/blob/main/20220806.ipynb\" target=\"_parent\"><img src=\"https://colab.research.google.com/assets/colab-badge.svg\" alt=\"Open In Colab\"/></a>"
      ]
    },
    {
      "cell_type": "markdown",
      "source": [
        "# CMD指令\n",
        "\n",
        "* start. 打開目錄\n",
        "* dir 目錄內容\n",
        "* mkdir 新增資料夾\n",
        "* rmdir 刪除資料夾\n",
        "* cd 進入\n",
        "* cd .. 上一層"
      ],
      "metadata": {
        "id": "Tn354LXquzKv"
      }
    },
    {
      "cell_type": "code",
      "execution_count": null,
      "metadata": {
        "id": "-tV6Yt0nqyMi"
      },
      "outputs": [],
      "source": [
        ""
      ]
    }
  ]
}